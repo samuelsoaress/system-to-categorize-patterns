{
 "cells": [
  {
   "cell_type": "code",
   "execution_count": 1,
   "metadata": {},
   "outputs": [],
   "source": [
    "import pandas as pd"
   ]
  },
  {
   "cell_type": "code",
   "execution_count": 2,
   "metadata": {},
   "outputs": [],
   "source": [
    "dados = pd.read_csv('uploads/DATA.csv')"
   ]
  },
  {
   "cell_type": "code",
   "execution_count": 3,
   "metadata": {},
   "outputs": [
    {
     "data": {
      "text/html": [
       "<div>\n",
       "<style scoped>\n",
       "    .dataframe tbody tr th:only-of-type {\n",
       "        vertical-align: middle;\n",
       "    }\n",
       "\n",
       "    .dataframe tbody tr th {\n",
       "        vertical-align: top;\n",
       "    }\n",
       "\n",
       "    .dataframe thead th {\n",
       "        text-align: right;\n",
       "    }\n",
       "</style>\n",
       "<table border=\"1\" class=\"dataframe\">\n",
       "  <thead>\n",
       "    <tr style=\"text-align: right;\">\n",
       "      <th></th>\n",
       "      <th>CATEGORIA</th>\n",
       "      <th>CIDADE_ESTABELECIMENTO</th>\n",
       "      <th>COD_CATEGORIA</th>\n",
       "      <th>COD_ESTABELECIMENTO</th>\n",
       "      <th>COD_MCC</th>\n",
       "      <th>FREQ_TRANSACAO</th>\n",
       "      <th>MCC_CODE</th>\n",
       "      <th>MCC_DESCRIPTION</th>\n",
       "      <th>NOME_ESTABELECIMENTO</th>\n",
       "      <th>NOME_MCC</th>\n",
       "      <th>PREDICT</th>\n",
       "      <th>TRANSACAO_COM_CHIP</th>\n",
       "      <th>Unnamed: 0</th>\n",
       "      <th>COD_COMPUTADOR</th>\n",
       "    </tr>\n",
       "  </thead>\n",
       "  <tbody>\n",
       "    <tr>\n",
       "      <td>0</td>\n",
       "      <td>NaN</td>\n",
       "      <td>MUENCHEN</td>\n",
       "      <td>5</td>\n",
       "      <td>859147800991</td>\n",
       "      <td>5411.0</td>\n",
       "      <td>1.0</td>\n",
       "      <td>54110.0</td>\n",
       "      <td>SUPERMERCADOS</td>\n",
       "      <td>111 EDEKA MARKT MUENCH</td>\n",
       "      <td>111 EDEKA MARKT MUENCH SUPERMERCADOS</td>\n",
       "      <td>Supermercado</td>\n",
       "      <td>S</td>\n",
       "      <td>NaN</td>\n",
       "      <td>11</td>\n",
       "    </tr>\n",
       "    <tr>\n",
       "      <td>1</td>\n",
       "      <td>NaN</td>\n",
       "      <td>CORALVILLE</td>\n",
       "      <td>8</td>\n",
       "      <td>3141626606</td>\n",
       "      <td>5814.0</td>\n",
       "      <td>2.0</td>\n",
       "      <td>58140.0</td>\n",
       "      <td>FAST FOOD</td>\n",
       "      <td>1733 DOMINOS PIZZA 000001</td>\n",
       "      <td>1733 DOMINOS PIZZA 000001 FAST FOOD</td>\n",
       "      <td>Fast Food</td>\n",
       "      <td>N</td>\n",
       "      <td>NaN</td>\n",
       "      <td>7</td>\n",
       "    </tr>\n",
       "    <tr>\n",
       "      <td>2</td>\n",
       "      <td>NaN</td>\n",
       "      <td>ITABORAI</td>\n",
       "      <td>8</td>\n",
       "      <td>8737588426</td>\n",
       "      <td>5812.0</td>\n",
       "      <td>1.0</td>\n",
       "      <td>58120.0</td>\n",
       "      <td>RESTAURANTES</td>\n",
       "      <td>262 BURGUER ARTESANAL</td>\n",
       "      <td>262 BURGUER ARTESANAL RESTAURANTES</td>\n",
       "      <td>Supermercado</td>\n",
       "      <td>S</td>\n",
       "      <td>NaN</td>\n",
       "      <td>11</td>\n",
       "    </tr>\n",
       "    <tr>\n",
       "      <td>3</td>\n",
       "      <td>NaN</td>\n",
       "      <td>BERLIN</td>\n",
       "      <td>7</td>\n",
       "      <td>859147609955</td>\n",
       "      <td>5812.0</td>\n",
       "      <td>1.0</td>\n",
       "      <td>58120.0</td>\n",
       "      <td>RESTAURANTES</td>\n",
       "      <td>3 MINUTES SUR MER</td>\n",
       "      <td>3 MINUTES SUR MER RESTAURANTES</td>\n",
       "      <td>Fast Food</td>\n",
       "      <td>S</td>\n",
       "      <td>NaN</td>\n",
       "      <td>11</td>\n",
       "    </tr>\n",
       "    <tr>\n",
       "      <td>4</td>\n",
       "      <td>NaN</td>\n",
       "      <td>RECIFE</td>\n",
       "      <td>8</td>\n",
       "      <td>988425</td>\n",
       "      <td>5462.0</td>\n",
       "      <td>88.0</td>\n",
       "      <td>54620.0</td>\n",
       "      <td>PADARIAS</td>\n",
       "      <td>3692 SUBWAY</td>\n",
       "      <td>3692 SUBWAY PADARIAS</td>\n",
       "      <td>Supermercado</td>\n",
       "      <td>S</td>\n",
       "      <td>NaN</td>\n",
       "      <td>11</td>\n",
       "    </tr>\n",
       "  </tbody>\n",
       "</table>\n",
       "</div>"
      ],
      "text/plain": [
       "  CATEGORIA CIDADE_ESTABELECIMENTO COD_CATEGORIA COD_ESTABELECIMENTO  COD_MCC  \\\n",
       "0       NaN               MUENCHEN             5        859147800991   5411.0   \n",
       "1       NaN             CORALVILLE             8          3141626606   5814.0   \n",
       "2       NaN               ITABORAI             8          8737588426   5812.0   \n",
       "3       NaN                 BERLIN             7        859147609955   5812.0   \n",
       "4       NaN                 RECIFE             8              988425   5462.0   \n",
       "\n",
       "   FREQ_TRANSACAO  MCC_CODE MCC_DESCRIPTION       NOME_ESTABELECIMENTO  \\\n",
       "0             1.0   54110.0   SUPERMERCADOS     111 EDEKA MARKT MUENCH   \n",
       "1             2.0   58140.0       FAST FOOD  1733 DOMINOS PIZZA 000001   \n",
       "2             1.0   58120.0    RESTAURANTES      262 BURGUER ARTESANAL   \n",
       "3             1.0   58120.0    RESTAURANTES          3 MINUTES SUR MER   \n",
       "4            88.0   54620.0        PADARIAS                3692 SUBWAY   \n",
       "\n",
       "                               NOME_MCC       PREDICT TRANSACAO_COM_CHIP  \\\n",
       "0  111 EDEKA MARKT MUENCH SUPERMERCADOS  Supermercado                  S   \n",
       "1   1733 DOMINOS PIZZA 000001 FAST FOOD     Fast Food                  N   \n",
       "2    262 BURGUER ARTESANAL RESTAURANTES  Supermercado                  S   \n",
       "3        3 MINUTES SUR MER RESTAURANTES     Fast Food                  S   \n",
       "4                  3692 SUBWAY PADARIAS  Supermercado                  S   \n",
       "\n",
       "   Unnamed: 0  COD_COMPUTADOR  \n",
       "0         NaN              11  \n",
       "1         NaN               7  \n",
       "2         NaN              11  \n",
       "3         NaN              11  \n",
       "4         NaN              11  "
      ]
     },
     "execution_count": 3,
     "metadata": {},
     "output_type": "execute_result"
    }
   ],
   "source": [
    "dados.head()"
   ]
  },
  {
   "cell_type": "code",
   "execution_count": 4,
   "metadata": {},
   "outputs": [
    {
     "data": {
      "text/plain": [
       "11    9954\n",
       "3     4264\n",
       "7     3350\n",
       "1     1754\n",
       "0     1408\n",
       "5     1104\n",
       "6      576\n",
       "10     328\n",
       "2      159\n",
       "4       19\n",
       "8       11\n",
       "9        9\n",
       "Name: COD_COMPUTADOR, dtype: int64"
      ]
     },
     "execution_count": 4,
     "metadata": {},
     "output_type": "execute_result"
    }
   ],
   "source": [
    "dados.COD_COMPUTADOR.value_counts()"
   ]
  },
  {
   "cell_type": "code",
   "execution_count": 10,
   "metadata": {},
   "outputs": [],
   "source": [
    "keyword ={\"nome\":\"RESTAURANT\",\n",
    "           \"categoria\": 7   \n",
    "          }"
   ]
  },
  {
   "cell_type": "code",
   "execution_count": 12,
   "metadata": {},
   "outputs": [
    {
     "ename": "NameError",
     "evalue": "name 'Connection' is not defined",
     "output_type": "error",
     "traceback": [
      "\u001b[1;31m---------------------------------------------------------------------------\u001b[0m",
      "\u001b[1;31mNameError\u001b[0m                                 Traceback (most recent call last)",
      "\u001b[1;32m<ipython-input-12-e6554624f97d>\u001b[0m in \u001b[0;36m<module>\u001b[1;34m\u001b[0m\n\u001b[1;32m----> 1\u001b[1;33m \u001b[0mconnection\u001b[0m \u001b[1;33m=\u001b[0m \u001b[0mConnection\u001b[0m\u001b[1;33m(\u001b[0m\u001b[1;33m)\u001b[0m\u001b[1;33m\u001b[0m\u001b[1;33m\u001b[0m\u001b[0m\n\u001b[0m",
      "\u001b[1;31mNameError\u001b[0m: name 'Connection' is not defined"
     ]
    }
   ],
   "source": [
    "connection = Connection()"
   ]
  },
  {
   "cell_type": "code",
   "execution_count": 13,
   "metadata": {},
   "outputs": [],
   "source": [
    " forum = {\"author\": \"Thiago Avelino\",\n",
    "            \"text\": \"Python e MongoDB\",\n",
    "             \"tags\": [\"mongodb\", \"python\", \"pymongo\"]}"
   ]
  },
  {
   "cell_type": "code",
   "execution_count": 14,
   "metadata": {},
   "outputs": [
    {
     "ename": "NameError",
     "evalue": "name 'db' is not defined",
     "output_type": "error",
     "traceback": [
      "\u001b[1;31m---------------------------------------------------------------------------\u001b[0m",
      "\u001b[1;31mNameError\u001b[0m                                 Traceback (most recent call last)",
      "\u001b[1;32m<ipython-input-14-179287be6f7a>\u001b[0m in \u001b[0;36m<module>\u001b[1;34m\u001b[0m\n\u001b[1;32m----> 1\u001b[1;33m \u001b[0mimaster\u001b[0m \u001b[1;33m=\u001b[0m \u001b[0mdb\u001b[0m\u001b[1;33m.\u001b[0m\u001b[0mimaster\u001b[0m\u001b[1;33m\u001b[0m\u001b[1;33m\u001b[0m\u001b[0m\n\u001b[0m",
      "\u001b[1;31mNameError\u001b[0m: name 'db' is not defined"
     ]
    }
   ],
   "source": [
    "imaster = db.imaster"
   ]
  },
  {
   "cell_type": "code",
   "execution_count": null,
   "metadata": {},
   "outputs": [],
   "source": [
    "\n",
    "client = pymongo.MongoClient(\"mongodb+srv://dbUser:<password>@cluster0-nkzzg.gcp.mongodb.net/test?retryWrites=true&w=majority\")\n",
    "db = client.test\n"
   ]
  }
 ],
 "metadata": {
  "kernelspec": {
   "display_name": "Python 3",
   "language": "python",
   "name": "python3"
  },
  "language_info": {
   "codemirror_mode": {
    "name": "ipython",
    "version": 3
   },
   "file_extension": ".py",
   "mimetype": "text/x-python",
   "name": "python",
   "nbconvert_exporter": "python",
   "pygments_lexer": "ipython3",
   "version": "3.7.4"
  }
 },
 "nbformat": 4,
 "nbformat_minor": 2
}
