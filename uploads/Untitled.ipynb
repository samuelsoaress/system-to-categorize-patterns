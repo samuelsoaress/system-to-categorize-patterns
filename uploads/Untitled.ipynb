{
 "cells": [
  {
   "cell_type": "code",
   "execution_count": 1,
   "metadata": {},
   "outputs": [],
   "source": [
    "import pandas as pd"
   ]
  },
  {
   "cell_type": "code",
   "execution_count": 36,
   "metadata": {},
   "outputs": [],
   "source": [
    "dados = pd.read_csv('DATA_SET_TESTE.csv')"
   ]
  },
  {
   "cell_type": "code",
   "execution_count": 37,
   "metadata": {
    "scrolled": true
   },
   "outputs": [
    {
     "data": {
      "text/html": [
       "<div>\n",
       "<style scoped>\n",
       "    .dataframe tbody tr th:only-of-type {\n",
       "        vertical-align: middle;\n",
       "    }\n",
       "\n",
       "    .dataframe tbody tr th {\n",
       "        vertical-align: top;\n",
       "    }\n",
       "\n",
       "    .dataframe thead th {\n",
       "        text-align: right;\n",
       "    }\n",
       "</style>\n",
       "<table border=\"1\" class=\"dataframe\">\n",
       "  <thead>\n",
       "    <tr style=\"text-align: right;\">\n",
       "      <th></th>\n",
       "      <th>Unnamed: 0</th>\n",
       "      <th>CATEGORIA</th>\n",
       "      <th>CIDADE_ESTABELECIMENTO</th>\n",
       "      <th>COD_CATEGORIA</th>\n",
       "      <th>COD_ESTABELECIMENTO</th>\n",
       "      <th>COD_MCC</th>\n",
       "      <th>FREQ_TRANSACAO</th>\n",
       "      <th>MCC_CODE</th>\n",
       "      <th>MCC_DESCRIPTION</th>\n",
       "      <th>NOME_ESTABELECIMENTO</th>\n",
       "      <th>NOME_MCC</th>\n",
       "      <th>PREDICT</th>\n",
       "      <th>TRANSACAO_COM_CHIP</th>\n",
       "      <th>Unnamed: 0.1</th>\n",
       "      <th>COD_COMPUTADOR</th>\n",
       "    </tr>\n",
       "  </thead>\n",
       "  <tbody>\n",
       "    <tr>\n",
       "      <td>0</td>\n",
       "      <td>0</td>\n",
       "      <td>NaN</td>\n",
       "      <td>MUENCHEN</td>\n",
       "      <td>5</td>\n",
       "      <td>859147800991</td>\n",
       "      <td>5411.0</td>\n",
       "      <td>1.0</td>\n",
       "      <td>54110.0</td>\n",
       "      <td>SUPERMERCADOS</td>\n",
       "      <td>111 EDEKA MARKT MUENCH</td>\n",
       "      <td>111 EDEKA MARKT MUENCH SUPERMERCADOS</td>\n",
       "      <td>Supermercado</td>\n",
       "      <td>S</td>\n",
       "      <td>NaN</td>\n",
       "      <td>11</td>\n",
       "    </tr>\n",
       "    <tr>\n",
       "      <td>1</td>\n",
       "      <td>1</td>\n",
       "      <td>NaN</td>\n",
       "      <td>CORALVILLE</td>\n",
       "      <td>8</td>\n",
       "      <td>3141626606</td>\n",
       "      <td>5814.0</td>\n",
       "      <td>2.0</td>\n",
       "      <td>58140.0</td>\n",
       "      <td>FAST FOOD</td>\n",
       "      <td>1733 DOMINOS PIZZA 000001</td>\n",
       "      <td>1733 DOMINOS PIZZA 000001 FAST FOOD</td>\n",
       "      <td>Fast Food</td>\n",
       "      <td>N</td>\n",
       "      <td>NaN</td>\n",
       "      <td>7</td>\n",
       "    </tr>\n",
       "    <tr>\n",
       "      <td>2</td>\n",
       "      <td>2</td>\n",
       "      <td>NaN</td>\n",
       "      <td>ITABORAI</td>\n",
       "      <td>8</td>\n",
       "      <td>8737588426</td>\n",
       "      <td>5812.0</td>\n",
       "      <td>1.0</td>\n",
       "      <td>58120.0</td>\n",
       "      <td>RESTAURANTES</td>\n",
       "      <td>262 BURGUER ARTESANAL</td>\n",
       "      <td>262 BURGUER ARTESANAL RESTAURANTES</td>\n",
       "      <td>Supermercado</td>\n",
       "      <td>S</td>\n",
       "      <td>NaN</td>\n",
       "      <td>11</td>\n",
       "    </tr>\n",
       "    <tr>\n",
       "      <td>3</td>\n",
       "      <td>3</td>\n",
       "      <td>NaN</td>\n",
       "      <td>BERLIN</td>\n",
       "      <td>7</td>\n",
       "      <td>859147609955</td>\n",
       "      <td>5812.0</td>\n",
       "      <td>1.0</td>\n",
       "      <td>58120.0</td>\n",
       "      <td>RESTAURANTES</td>\n",
       "      <td>3 MINUTES SUR MER</td>\n",
       "      <td>3 MINUTES SUR MER RESTAURANTES</td>\n",
       "      <td>Fast Food</td>\n",
       "      <td>S</td>\n",
       "      <td>NaN</td>\n",
       "      <td>11</td>\n",
       "    </tr>\n",
       "    <tr>\n",
       "      <td>4</td>\n",
       "      <td>4</td>\n",
       "      <td>NaN</td>\n",
       "      <td>RECIFE</td>\n",
       "      <td>8</td>\n",
       "      <td>988425</td>\n",
       "      <td>5462.0</td>\n",
       "      <td>88.0</td>\n",
       "      <td>54620.0</td>\n",
       "      <td>PADARIAS</td>\n",
       "      <td>3692 SUBWAY</td>\n",
       "      <td>3692 SUBWAY PADARIAS</td>\n",
       "      <td>Supermercado</td>\n",
       "      <td>S</td>\n",
       "      <td>NaN</td>\n",
       "      <td>11</td>\n",
       "    </tr>\n",
       "  </tbody>\n",
       "</table>\n",
       "</div>"
      ],
      "text/plain": [
       "   Unnamed: 0 CATEGORIA CIDADE_ESTABELECIMENTO COD_CATEGORIA  \\\n",
       "0           0       NaN               MUENCHEN             5   \n",
       "1           1       NaN             CORALVILLE             8   \n",
       "2           2       NaN               ITABORAI             8   \n",
       "3           3       NaN                 BERLIN             7   \n",
       "4           4       NaN                 RECIFE             8   \n",
       "\n",
       "  COD_ESTABELECIMENTO  COD_MCC  FREQ_TRANSACAO  MCC_CODE MCC_DESCRIPTION  \\\n",
       "0        859147800991   5411.0             1.0   54110.0   SUPERMERCADOS   \n",
       "1          3141626606   5814.0             2.0   58140.0       FAST FOOD   \n",
       "2          8737588426   5812.0             1.0   58120.0    RESTAURANTES   \n",
       "3        859147609955   5812.0             1.0   58120.0    RESTAURANTES   \n",
       "4              988425   5462.0            88.0   54620.0        PADARIAS   \n",
       "\n",
       "        NOME_ESTABELECIMENTO                              NOME_MCC  \\\n",
       "0     111 EDEKA MARKT MUENCH  111 EDEKA MARKT MUENCH SUPERMERCADOS   \n",
       "1  1733 DOMINOS PIZZA 000001   1733 DOMINOS PIZZA 000001 FAST FOOD   \n",
       "2      262 BURGUER ARTESANAL    262 BURGUER ARTESANAL RESTAURANTES   \n",
       "3          3 MINUTES SUR MER        3 MINUTES SUR MER RESTAURANTES   \n",
       "4                3692 SUBWAY                  3692 SUBWAY PADARIAS   \n",
       "\n",
       "        PREDICT TRANSACAO_COM_CHIP  Unnamed: 0.1  COD_COMPUTADOR  \n",
       "0  Supermercado                  S           NaN              11  \n",
       "1     Fast Food                  N           NaN               7  \n",
       "2  Supermercado                  S           NaN              11  \n",
       "3     Fast Food                  S           NaN              11  \n",
       "4  Supermercado                  S           NaN              11  "
      ]
     },
     "execution_count": 37,
     "metadata": {},
     "output_type": "execute_result"
    }
   ],
   "source": [
    "dados.head()"
   ]
  },
  {
   "cell_type": "code",
   "execution_count": 38,
   "metadata": {},
   "outputs": [
    {
     "data": {
      "text/plain": [
       "(22936, 15)"
      ]
     },
     "execution_count": 38,
     "metadata": {},
     "output_type": "execute_result"
    }
   ],
   "source": [
    "dados.shape"
   ]
  },
  {
   "cell_type": "code",
   "execution_count": 34,
   "metadata": {},
   "outputs": [],
   "source": [
    "dados = pd.read_csv('DATA_SET_CORRIGIDO.csv')"
   ]
  },
  {
   "cell_type": "code",
   "execution_count": 35,
   "metadata": {},
   "outputs": [
    {
     "data": {
      "text/plain": [
       "(0, 1)"
      ]
     },
     "execution_count": 35,
     "metadata": {},
     "output_type": "execute_result"
    }
   ],
   "source": [
    "dados.shape"
   ]
  },
  {
   "cell_type": "code",
   "execution_count": 39,
   "metadata": {},
   "outputs": [],
   "source": [
    "total = len(dados)\n",
    "resto = len(dados[dados['COD_COMPUTADOR'] == 11])\n",
    "categorizado = total - resto"
   ]
  },
  {
   "cell_type": "code",
   "execution_count": 40,
   "metadata": {},
   "outputs": [
    {
     "data": {
      "text/plain": [
       "22936"
      ]
     },
     "execution_count": 40,
     "metadata": {},
     "output_type": "execute_result"
    }
   ],
   "source": [
    "total"
   ]
  },
  {
   "cell_type": "code",
   "execution_count": 41,
   "metadata": {},
   "outputs": [
    {
     "data": {
      "text/plain": [
       "9964"
      ]
     },
     "execution_count": 41,
     "metadata": {},
     "output_type": "execute_result"
    }
   ],
   "source": [
    "resto"
   ]
  },
  {
   "cell_type": "code",
   "execution_count": 42,
   "metadata": {},
   "outputs": [
    {
     "data": {
      "text/plain": [
       "12972"
      ]
     },
     "execution_count": 42,
     "metadata": {},
     "output_type": "execute_result"
    }
   ],
   "source": [
    "categorizado"
   ]
  },
  {
   "cell_type": "code",
   "execution_count": 43,
   "metadata": {},
   "outputs": [
    {
     "data": {
      "text/plain": [
       "11    9964\n",
       "3     4238\n",
       "7     3296\n",
       "1     1793\n",
       "0     1468\n",
       "5     1108\n",
       "6      574\n",
       "10     328\n",
       "2      139\n",
       "4       21\n",
       "9        7\n",
       "Name: COD_COMPUTADOR, dtype: int64"
      ]
     },
     "execution_count": 43,
     "metadata": {},
     "output_type": "execute_result"
    }
   ],
   "source": [
    "dados['COD_COMPUTADOR'].value_counts()"
   ]
  },
  {
   "cell_type": "code",
   "execution_count": 20,
   "metadata": {},
   "outputs": [
    {
     "data": {
      "text/html": [
       "<div>\n",
       "<style scoped>\n",
       "    .dataframe tbody tr th:only-of-type {\n",
       "        vertical-align: middle;\n",
       "    }\n",
       "\n",
       "    .dataframe tbody tr th {\n",
       "        vertical-align: top;\n",
       "    }\n",
       "\n",
       "    .dataframe thead th {\n",
       "        text-align: right;\n",
       "    }\n",
       "</style>\n",
       "<table border=\"1\" class=\"dataframe\">\n",
       "  <thead>\n",
       "    <tr style=\"text-align: right;\">\n",
       "      <th></th>\n",
       "      <th>Unnamed: 0</th>\n",
       "      <th>CATEGORIA</th>\n",
       "      <th>CIDADE_ESTABELECIMENTO</th>\n",
       "      <th>COD_CATEGORIA</th>\n",
       "      <th>COD_ESTABELECIMENTO</th>\n",
       "      <th>COD_MCC</th>\n",
       "      <th>FREQ_TRANSACAO</th>\n",
       "      <th>MCC_CODE</th>\n",
       "      <th>MCC_DESCRIPTION</th>\n",
       "      <th>NOME_ESTABELECIMENTO</th>\n",
       "      <th>NOME_MCC</th>\n",
       "      <th>PREDICT</th>\n",
       "      <th>TRANSACAO_COM_CHIP</th>\n",
       "      <th>Unnamed: 0.1</th>\n",
       "      <th>COD_COMPUTADOR</th>\n",
       "    </tr>\n",
       "  </thead>\n",
       "  <tbody>\n",
       "    <tr>\n",
       "      <td>7211</td>\n",
       "      <td>7211</td>\n",
       "      <td>hotel</td>\n",
       "      <td>MONTREAL</td>\n",
       "      <td>0</td>\n",
       "      <td>30108676678</td>\n",
       "      <td>7011.0</td>\n",
       "      <td>2.0</td>\n",
       "      <td>7011.0</td>\n",
       "      <td>HOTEIS, POUSADAS, ETC</td>\n",
       "      <td>RESTAURANTS WILLIAM GRAY</td>\n",
       "      <td>RESTAURANTS WILLIAM GRAY HOTEIS, POUSADAS, ETC</td>\n",
       "      <td>NaN</td>\n",
       "      <td>S</td>\n",
       "      <td>NaN</td>\n",
       "      <td>10</td>\n",
       "    </tr>\n",
       "  </tbody>\n",
       "</table>\n",
       "</div>"
      ],
      "text/plain": [
       "      Unnamed: 0 CATEGORIA CIDADE_ESTABELECIMENTO COD_CATEGORIA  \\\n",
       "7211        7211     hotel               MONTREAL             0   \n",
       "\n",
       "     COD_ESTABELECIMENTO  COD_MCC  FREQ_TRANSACAO  MCC_CODE  \\\n",
       "7211         30108676678   7011.0             2.0    7011.0   \n",
       "\n",
       "            MCC_DESCRIPTION      NOME_ESTABELECIMENTO  \\\n",
       "7211  HOTEIS, POUSADAS, ETC  RESTAURANTS WILLIAM GRAY   \n",
       "\n",
       "                                            NOME_MCC PREDICT  \\\n",
       "7211  RESTAURANTS WILLIAM GRAY HOTEIS, POUSADAS, ETC     NaN   \n",
       "\n",
       "     TRANSACAO_COM_CHIP  Unnamed: 0.1  COD_COMPUTADOR  \n",
       "7211                  S           NaN              10  "
      ]
     },
     "execution_count": 20,
     "metadata": {},
     "output_type": "execute_result"
    }
   ],
   "source": [
    "dados[dados['COD_COMPUTADOR'] == 10]"
   ]
  },
  {
   "cell_type": "code",
   "execution_count": null,
   "metadata": {},
   "outputs": [],
   "source": []
  }
 ],
 "metadata": {
  "kernelspec": {
   "display_name": "Python 3",
   "language": "python",
   "name": "python3"
  },
  "language_info": {
   "codemirror_mode": {
    "name": "ipython",
    "version": 3
   },
   "file_extension": ".py",
   "mimetype": "text/x-python",
   "name": "python",
   "nbconvert_exporter": "python",
   "pygments_lexer": "ipython3",
   "version": "3.7.4"
  }
 },
 "nbformat": 4,
 "nbformat_minor": 2
}
